{
 "cells": [
  {
   "cell_type": "code",
   "execution_count": 1,
   "id": "ffecad85",
   "metadata": {},
   "outputs": [],
   "source": [
    "import pandas\n",
    "from datetime import datetime\n",
    "from pytz import utc"
   ]
  },
  {
   "cell_type": "code",
   "execution_count": 2,
   "id": "9bab1781",
   "metadata": {},
   "outputs": [
    {
     "data": {
      "text/html": [
       "<div>\n",
       "<style scoped>\n",
       "    .dataframe tbody tr th:only-of-type {\n",
       "        vertical-align: middle;\n",
       "    }\n",
       "\n",
       "    .dataframe tbody tr th {\n",
       "        vertical-align: top;\n",
       "    }\n",
       "\n",
       "    .dataframe thead th {\n",
       "        text-align: right;\n",
       "    }\n",
       "</style>\n",
       "<table border=\"1\" class=\"dataframe\">\n",
       "  <thead>\n",
       "    <tr style=\"text-align: right;\">\n",
       "      <th></th>\n",
       "      <th>Course Name</th>\n",
       "      <th>Timestamp</th>\n",
       "      <th>Rating</th>\n",
       "      <th>Comment</th>\n",
       "    </tr>\n",
       "  </thead>\n",
       "  <tbody>\n",
       "    <tr>\n",
       "      <th>0</th>\n",
       "      <td>The Python Mega Course: Build 10 Real World Ap...</td>\n",
       "      <td>2021-04-02 06:25:52+00:00</td>\n",
       "      <td>4.0</td>\n",
       "      <td>NaN</td>\n",
       "    </tr>\n",
       "    <tr>\n",
       "      <th>1</th>\n",
       "      <td>The Python Mega Course: Build 10 Real World Ap...</td>\n",
       "      <td>2021-04-02 05:12:34+00:00</td>\n",
       "      <td>4.0</td>\n",
       "      <td>NaN</td>\n",
       "    </tr>\n",
       "    <tr>\n",
       "      <th>2</th>\n",
       "      <td>The Python Mega Course: Build 10 Real World Ap...</td>\n",
       "      <td>2021-04-02 05:11:03+00:00</td>\n",
       "      <td>4.0</td>\n",
       "      <td>NaN</td>\n",
       "    </tr>\n",
       "    <tr>\n",
       "      <th>3</th>\n",
       "      <td>The Python Mega Course: Build 10 Real World Ap...</td>\n",
       "      <td>2021-04-02 03:33:24+00:00</td>\n",
       "      <td>5.0</td>\n",
       "      <td>NaN</td>\n",
       "    </tr>\n",
       "    <tr>\n",
       "      <th>4</th>\n",
       "      <td>The Python Mega Course: Build 10 Real World Ap...</td>\n",
       "      <td>2021-04-02 03:31:49+00:00</td>\n",
       "      <td>4.5</td>\n",
       "      <td>NaN</td>\n",
       "    </tr>\n",
       "    <tr>\n",
       "      <th>...</th>\n",
       "      <td>...</td>\n",
       "      <td>...</td>\n",
       "      <td>...</td>\n",
       "      <td>...</td>\n",
       "    </tr>\n",
       "    <tr>\n",
       "      <th>9729</th>\n",
       "      <td>The Python Mega Course: Build 10 Real World Ap...</td>\n",
       "      <td>2020-07-01 03:09:44+00:00</td>\n",
       "      <td>3.5</td>\n",
       "      <td>NaN</td>\n",
       "    </tr>\n",
       "    <tr>\n",
       "      <th>9730</th>\n",
       "      <td>The Python Mega Course: Build 10 Real World Ap...</td>\n",
       "      <td>2020-07-01 03:09:12+00:00</td>\n",
       "      <td>5.0</td>\n",
       "      <td>NaN</td>\n",
       "    </tr>\n",
       "    <tr>\n",
       "      <th>9731</th>\n",
       "      <td>The Python Mega Course: Build 10 Real World Ap...</td>\n",
       "      <td>2020-07-01 02:40:58+00:00</td>\n",
       "      <td>4.0</td>\n",
       "      <td>NaN</td>\n",
       "    </tr>\n",
       "    <tr>\n",
       "      <th>9732</th>\n",
       "      <td>The Python Mega Course: Build 10 Real World Ap...</td>\n",
       "      <td>2020-07-01 02:04:02+00:00</td>\n",
       "      <td>5.0</td>\n",
       "      <td>nice</td>\n",
       "    </tr>\n",
       "    <tr>\n",
       "      <th>9733</th>\n",
       "      <td>The Python Mega Course: Build 10 Real World Ap...</td>\n",
       "      <td>2020-07-01 00:01:34+00:00</td>\n",
       "      <td>2.0</td>\n",
       "      <td>Hard to follow if u have no experience program...</td>\n",
       "    </tr>\n",
       "  </tbody>\n",
       "</table>\n",
       "<p>9734 rows × 4 columns</p>\n",
       "</div>"
      ],
      "text/plain": [
       "                                            Course Name  \\\n",
       "0     The Python Mega Course: Build 10 Real World Ap...   \n",
       "1     The Python Mega Course: Build 10 Real World Ap...   \n",
       "2     The Python Mega Course: Build 10 Real World Ap...   \n",
       "3     The Python Mega Course: Build 10 Real World Ap...   \n",
       "4     The Python Mega Course: Build 10 Real World Ap...   \n",
       "...                                                 ...   \n",
       "9729  The Python Mega Course: Build 10 Real World Ap...   \n",
       "9730  The Python Mega Course: Build 10 Real World Ap...   \n",
       "9731  The Python Mega Course: Build 10 Real World Ap...   \n",
       "9732  The Python Mega Course: Build 10 Real World Ap...   \n",
       "9733  The Python Mega Course: Build 10 Real World Ap...   \n",
       "\n",
       "                     Timestamp  Rating  \\\n",
       "0    2021-04-02 06:25:52+00:00     4.0   \n",
       "1    2021-04-02 05:12:34+00:00     4.0   \n",
       "2    2021-04-02 05:11:03+00:00     4.0   \n",
       "3    2021-04-02 03:33:24+00:00     5.0   \n",
       "4    2021-04-02 03:31:49+00:00     4.5   \n",
       "...                        ...     ...   \n",
       "9729 2020-07-01 03:09:44+00:00     3.5   \n",
       "9730 2020-07-01 03:09:12+00:00     5.0   \n",
       "9731 2020-07-01 02:40:58+00:00     4.0   \n",
       "9732 2020-07-01 02:04:02+00:00     5.0   \n",
       "9733 2020-07-01 00:01:34+00:00     2.0   \n",
       "\n",
       "                                                Comment  \n",
       "0                                                   NaN  \n",
       "1                                                   NaN  \n",
       "2                                                   NaN  \n",
       "3                                                   NaN  \n",
       "4                                                   NaN  \n",
       "...                                                 ...  \n",
       "9729                                                NaN  \n",
       "9730                                                NaN  \n",
       "9731                                                NaN  \n",
       "9732                                               nice  \n",
       "9733  Hard to follow if u have no experience program...  \n",
       "\n",
       "[9734 rows x 4 columns]"
      ]
     },
     "execution_count": 2,
     "metadata": {},
     "output_type": "execute_result"
    }
   ],
   "source": [
    "data = pandas.read_csv(\"../data/reviews.csv\", parse_dates = ['Timestamp'])\n",
    "data[data['Timestamp']> datetime(2020, 7, 1, tzinfo=utc)]"
   ]
  },
  {
   "cell_type": "markdown",
   "id": "a0bab2db",
   "metadata": {},
   "source": [
    "## 1. Average Rating"
   ]
  },
  {
   "cell_type": "code",
   "execution_count": 3,
   "id": "c2b84a6b",
   "metadata": {},
   "outputs": [
    {
     "data": {
      "text/plain": [
       "4.442155555555556"
      ]
     },
     "execution_count": 3,
     "metadata": {},
     "output_type": "execute_result"
    }
   ],
   "source": [
    "data['Rating'].mean()"
   ]
  },
  {
   "cell_type": "markdown",
   "id": "b2b47ffe",
   "metadata": {},
   "source": [
    "## 2. Average Rating of Particular Course"
   ]
  },
  {
   "cell_type": "code",
   "execution_count": 6,
   "id": "b8fe8e8b",
   "metadata": {},
   "outputs": [
    {
     "data": {
      "text/plain": [
       "4.477270180942244"
      ]
     },
     "execution_count": 6,
     "metadata": {},
     "output_type": "execute_result"
    }
   ],
   "source": [
    "data[data['Course Name'] == 'The Python Mega Course: Build 10 Real World Applications']['Rating'].mean()"
   ]
  },
  {
   "cell_type": "markdown",
   "id": "a76190c6",
   "metadata": {},
   "source": [
    "## 3. Average Rating for a particular period"
   ]
  },
  {
   "cell_type": "code",
   "execution_count": 7,
   "id": "61090a36",
   "metadata": {},
   "outputs": [
    {
     "data": {
      "text/html": [
       "<div>\n",
       "<style scoped>\n",
       "    .dataframe tbody tr th:only-of-type {\n",
       "        vertical-align: middle;\n",
       "    }\n",
       "\n",
       "    .dataframe tbody tr th {\n",
       "        vertical-align: top;\n",
       "    }\n",
       "\n",
       "    .dataframe thead th {\n",
       "        text-align: right;\n",
       "    }\n",
       "</style>\n",
       "<table border=\"1\" class=\"dataframe\">\n",
       "  <thead>\n",
       "    <tr style=\"text-align: right;\">\n",
       "      <th></th>\n",
       "      <th>Course Name</th>\n",
       "      <th>Timestamp</th>\n",
       "      <th>Rating</th>\n",
       "      <th>Comment</th>\n",
       "    </tr>\n",
       "  </thead>\n",
       "  <tbody>\n",
       "    <tr>\n",
       "      <th>3065</th>\n",
       "      <td>Interactive Data Visualization with Python and...</td>\n",
       "      <td>2020-12-30 23:28:34+00:00</td>\n",
       "      <td>3.0</td>\n",
       "      <td>NaN</td>\n",
       "    </tr>\n",
       "    <tr>\n",
       "      <th>3066</th>\n",
       "      <td>The Python Mega Course: Build 10 Real World Ap...</td>\n",
       "      <td>2020-12-30 22:59:02+00:00</td>\n",
       "      <td>4.0</td>\n",
       "      <td>NaN</td>\n",
       "    </tr>\n",
       "    <tr>\n",
       "      <th>3067</th>\n",
       "      <td>The Python Mega Course: Build 10 Real World Ap...</td>\n",
       "      <td>2020-12-30 22:40:10+00:00</td>\n",
       "      <td>4.5</td>\n",
       "      <td>NaN</td>\n",
       "    </tr>\n",
       "    <tr>\n",
       "      <th>3068</th>\n",
       "      <td>The Python Mega Course: Build 10 Real World Ap...</td>\n",
       "      <td>2020-12-30 21:56:41+00:00</td>\n",
       "      <td>4.5</td>\n",
       "      <td>NaN</td>\n",
       "    </tr>\n",
       "    <tr>\n",
       "      <th>3069</th>\n",
       "      <td>The Python Mega Course: Build 10 Real World Ap...</td>\n",
       "      <td>2020-12-30 21:14:34+00:00</td>\n",
       "      <td>4.5</td>\n",
       "      <td>NaN</td>\n",
       "    </tr>\n",
       "    <tr>\n",
       "      <th>...</th>\n",
       "      <td>...</td>\n",
       "      <td>...</td>\n",
       "      <td>...</td>\n",
       "      <td>...</td>\n",
       "    </tr>\n",
       "    <tr>\n",
       "      <th>19621</th>\n",
       "      <td>The Python Mega Course: Build 10 Real World Ap...</td>\n",
       "      <td>2020-01-01 08:15:48+00:00</td>\n",
       "      <td>5.0</td>\n",
       "      <td>NaN</td>\n",
       "    </tr>\n",
       "    <tr>\n",
       "      <th>19622</th>\n",
       "      <td>The Python Mega Course: Build 10 Real World Ap...</td>\n",
       "      <td>2020-01-01 06:24:54+00:00</td>\n",
       "      <td>5.0</td>\n",
       "      <td>Clearly stated and simple</td>\n",
       "    </tr>\n",
       "    <tr>\n",
       "      <th>19623</th>\n",
       "      <td>Python for Beginners with Examples</td>\n",
       "      <td>2020-01-01 02:15:47+00:00</td>\n",
       "      <td>5.0</td>\n",
       "      <td>NaN</td>\n",
       "    </tr>\n",
       "    <tr>\n",
       "      <th>19624</th>\n",
       "      <td>The Python Mega Course: Build 10 Real World Ap...</td>\n",
       "      <td>2020-01-01 01:10:35+00:00</td>\n",
       "      <td>4.5</td>\n",
       "      <td>NaN</td>\n",
       "    </tr>\n",
       "    <tr>\n",
       "      <th>19625</th>\n",
       "      <td>The Python Mega Course: Build 10 Real World Ap...</td>\n",
       "      <td>2020-01-01 00:04:11+00:00</td>\n",
       "      <td>4.0</td>\n",
       "      <td>NaN</td>\n",
       "    </tr>\n",
       "  </tbody>\n",
       "</table>\n",
       "<p>16561 rows × 4 columns</p>\n",
       "</div>"
      ],
      "text/plain": [
       "                                             Course Name  \\\n",
       "3065   Interactive Data Visualization with Python and...   \n",
       "3066   The Python Mega Course: Build 10 Real World Ap...   \n",
       "3067   The Python Mega Course: Build 10 Real World Ap...   \n",
       "3068   The Python Mega Course: Build 10 Real World Ap...   \n",
       "3069   The Python Mega Course: Build 10 Real World Ap...   \n",
       "...                                                  ...   \n",
       "19621  The Python Mega Course: Build 10 Real World Ap...   \n",
       "19622  The Python Mega Course: Build 10 Real World Ap...   \n",
       "19623                 Python for Beginners with Examples   \n",
       "19624  The Python Mega Course: Build 10 Real World Ap...   \n",
       "19625  The Python Mega Course: Build 10 Real World Ap...   \n",
       "\n",
       "                      Timestamp  Rating                    Comment  \n",
       "3065  2020-12-30 23:28:34+00:00     3.0                        NaN  \n",
       "3066  2020-12-30 22:59:02+00:00     4.0                        NaN  \n",
       "3067  2020-12-30 22:40:10+00:00     4.5                        NaN  \n",
       "3068  2020-12-30 21:56:41+00:00     4.5                        NaN  \n",
       "3069  2020-12-30 21:14:34+00:00     4.5                        NaN  \n",
       "...                         ...     ...                        ...  \n",
       "19621 2020-01-01 08:15:48+00:00     5.0                        NaN  \n",
       "19622 2020-01-01 06:24:54+00:00     5.0  Clearly stated and simple  \n",
       "19623 2020-01-01 02:15:47+00:00     5.0                        NaN  \n",
       "19624 2020-01-01 01:10:35+00:00     4.5                        NaN  \n",
       "19625 2020-01-01 00:04:11+00:00     4.0                        NaN  \n",
       "\n",
       "[16561 rows x 4 columns]"
      ]
     },
     "execution_count": 7,
     "metadata": {},
     "output_type": "execute_result"
    }
   ],
   "source": [
    "# For entire year 2020\n",
    "data[(data['Timestamp'] >= datetime(2020, 1,1 , tzinfo=utc)) & \n",
    "     (data['Timestamp'] <= datetime(2020, 12 ,31 , tzinfo=utc))]"
   ]
  },
  {
   "cell_type": "code",
   "execution_count": 8,
   "id": "014201d8",
   "metadata": {},
   "outputs": [
    {
     "data": {
      "text/plain": [
       "4.476541271662339"
      ]
     },
     "execution_count": 8,
     "metadata": {},
     "output_type": "execute_result"
    }
   ],
   "source": [
    "d = data[(data['Timestamp'] >= datetime(2020, 1,1 , tzinfo=utc)) & \n",
    "     (data['Timestamp'] <= datetime(2020, 12 ,31 , tzinfo=utc))]\n",
    "d['Rating'].mean()"
   ]
  },
  {
   "cell_type": "markdown",
   "id": "86f37382",
   "metadata": {},
   "source": [
    "## 4. Average Rating for a particular course in a particular period"
   ]
  },
  {
   "cell_type": "code",
   "execution_count": 9,
   "id": "0c2398f7",
   "metadata": {},
   "outputs": [
    {
     "data": {
      "text/plain": [
       "4.506076089208037"
      ]
     },
     "execution_count": 9,
     "metadata": {},
     "output_type": "execute_result"
    }
   ],
   "source": [
    "d = data[(data['Timestamp'] >= datetime(2020, 1,1 , tzinfo=utc)) & \n",
    "     (data['Timestamp'] <= datetime(2020, 12 ,31 , tzinfo=utc)) &\n",
    "     (data['Course Name'] == 'The Python Mega Course: Build 10 Real World Applications')]\n",
    "d['Rating'].mean()"
   ]
  },
  {
   "cell_type": "markdown",
   "id": "104535ac",
   "metadata": {},
   "source": [
    "## 5. Average of uncommented Ratings"
   ]
  },
  {
   "cell_type": "code",
   "execution_count": 14,
   "id": "5e23d17e",
   "metadata": {},
   "outputs": [
    {
     "data": {
      "text/plain": [
       "4.433679746603492"
      ]
     },
     "execution_count": 14,
     "metadata": {},
     "output_type": "execute_result"
    }
   ],
   "source": [
    "d = data[(data['Comment'].isnull())]\n",
    "d['Rating'].mean()"
   ]
  },
  {
   "cell_type": "markdown",
   "id": "c121ad01",
   "metadata": {},
   "source": [
    "## 6. Average of commented Ratings"
   ]
  },
  {
   "cell_type": "code",
   "execution_count": 15,
   "id": "632417e1",
   "metadata": {},
   "outputs": [
    {
     "data": {
      "text/plain": [
       "4.489777908515959"
      ]
     },
     "execution_count": 15,
     "metadata": {},
     "output_type": "execute_result"
    }
   ],
   "source": [
    "d = data[(data['Comment'].notnull())]\n",
    "d['Rating'].mean()"
   ]
  },
  {
   "cell_type": "markdown",
   "id": "84ebcc34",
   "metadata": {},
   "source": [
    "## 7. Number of Uncommented Ratings"
   ]
  },
  {
   "cell_type": "code",
   "execution_count": 16,
   "id": "30d1d67a",
   "metadata": {},
   "outputs": [
    {
     "data": {
      "text/plain": [
       "38201"
      ]
     },
     "execution_count": 16,
     "metadata": {},
     "output_type": "execute_result"
    }
   ],
   "source": [
    "d = data[(data['Comment'].isnull())]\n",
    "d['Rating'].count()"
   ]
  },
  {
   "cell_type": "markdown",
   "id": "e95ee9d8",
   "metadata": {},
   "source": [
    "## 8. Number of Commented Ratings"
   ]
  },
  {
   "cell_type": "code",
   "execution_count": 17,
   "id": "15bebbb2",
   "metadata": {},
   "outputs": [
    {
     "data": {
      "text/plain": [
       "6799"
      ]
     },
     "execution_count": 17,
     "metadata": {},
     "output_type": "execute_result"
    }
   ],
   "source": [
    "d = data[(data['Comment'].notnull())]\n",
    "d['Rating'].count()"
   ]
  },
  {
   "cell_type": "markdown",
   "id": "f64e2623",
   "metadata": {},
   "source": [
    "## 9. Number of comments containing a certain word"
   ]
  },
  {
   "cell_type": "code",
   "execution_count": 21,
   "id": "1a66508f",
   "metadata": {},
   "outputs": [],
   "source": [
    "d = data[(data['Comment'].notnull()) &\n",
    "        (data['Comment'].str.contains('accent'))]"
   ]
  },
  {
   "cell_type": "code",
   "execution_count": 26,
   "id": "ee0f1397",
   "metadata": {},
   "outputs": [
    {
     "data": {
      "text/plain": [
       "77"
      ]
     },
     "execution_count": 26,
     "metadata": {},
     "output_type": "execute_result"
    }
   ],
   "source": [
    "d = data[(data['Comment'].str.contains('accent', na=False))]\n",
    "d['Rating'].count()"
   ]
  },
  {
   "cell_type": "markdown",
   "id": "e4e7a734",
   "metadata": {},
   "source": [
    "## 10. Average of commented ratings with \"accent\" in comment "
   ]
  },
  {
   "cell_type": "code",
   "execution_count": 27,
   "id": "b65eaf73",
   "metadata": {},
   "outputs": [
    {
     "data": {
      "text/plain": [
       "3.8636363636363638"
      ]
     },
     "execution_count": 27,
     "metadata": {},
     "output_type": "execute_result"
    }
   ],
   "source": [
    "d = data[(data['Comment'].str.contains('accent', na=False))]\n",
    "d['Rating'].mean()"
   ]
  },
  {
   "cell_type": "code",
   "execution_count": null,
   "id": "e150f037",
   "metadata": {},
   "outputs": [],
   "source": []
  }
 ],
 "metadata": {
  "kernelspec": {
   "display_name": "Python 3 (ipykernel)",
   "language": "python",
   "name": "python3"
  },
  "language_info": {
   "codemirror_mode": {
    "name": "ipython",
    "version": 3
   },
   "file_extension": ".py",
   "mimetype": "text/x-python",
   "name": "python",
   "nbconvert_exporter": "python",
   "pygments_lexer": "ipython3",
   "version": "3.8.8rc1"
  }
 },
 "nbformat": 4,
 "nbformat_minor": 5
}
